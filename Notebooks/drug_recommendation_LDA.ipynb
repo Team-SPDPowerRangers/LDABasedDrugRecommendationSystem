{
  "cells": [
    {
      "cell_type": "code",
      "source": [
        "from google.colab import drive\n",
        "drive.mount('/content/drive')"
      ],
      "metadata": {
        "colab": {
          "base_uri": "https://localhost:8080/"
        },
        "id": "Ekt0EH-lUCda",
        "outputId": "33508e29-3336-41b0-c3f2-20cfc115fc85"
      },
      "execution_count": null,
      "outputs": [
        {
          "output_type": "stream",
          "name": "stdout",
          "text": [
            "Drive already mounted at /content/drive; to attempt to forcibly remount, call drive.mount(\"/content/drive\", force_remount=True).\n"
          ]
        }
      ]
    },
    {
      "cell_type": "code",
      "execution_count": null,
      "metadata": {
        "ExecuteTime": {
          "end_time": "2020-02-28T07:47:28.019418Z",
          "start_time": "2020-02-28T07:47:25.762612Z"
        },
        "id": "D2kK7eGrScq5"
      },
      "outputs": [],
      "source": [
        "# here we are importing all the necessary packages that are used\n",
        "import pandas as pd\n",
        "import numpy as np\n",
        "\n",
        "import matplotlib.pyplot as plt\n",
        "import seaborn as sns\n",
        "from mlxtend.plotting import plot_decision_regions\n",
        "\n",
        "plt.style.use('ggplot')\n",
        "%config InlineBackend.figure_format = 'svg'\n",
        "%matplotlib inline\n",
        "np.set_printoptions(suppress=True) # Suppress scientific notation where possible"
      ]
    },
    {
      "cell_type": "code",
      "execution_count": null,
      "metadata": {
        "ExecuteTime": {
          "end_time": "2020-02-28T07:47:28.556370Z",
          "start_time": "2020-02-28T07:47:28.021578Z"
        },
        "id": "rmtMuGM9Scq8"
      },
      "outputs": [],
      "source": [
        "from sklearn.feature_extraction.text import CountVectorizer\n",
        "from gensim import corpora, models, similarities, matutils\n",
        "from sklearn.decomposition import TruncatedSVD\n",
        "from sklearn.metrics.pairwise import cosine_similarity\n"
      ]
    },
    {
      "cell_type": "markdown",
      "metadata": {
        "id": "G_WvJi1oScq-"
      },
      "source": [
        "### Import cleaned datasets"
      ]
    },
    {
      "cell_type": "code",
      "execution_count": null,
      "metadata": {
        "ExecuteTime": {
          "end_time": "2020-02-28T07:47:29.047017Z",
          "start_time": "2020-02-28T07:47:28.558662Z"
        },
        "id": "c9k8Q-l_ScrA"
      },
      "outputs": [],
      "source": [
        "df_train_s = pd.read_csv('/content/drive/MyDrive/MIS6-Sem6/outputs/df_test.csv')\n",
        "# df_test_s = pd.read_csv('df_test.csv')"
      ]
    },
    {
      "cell_type": "code",
      "execution_count": null,
      "metadata": {
        "ExecuteTime": {
          "end_time": "2020-02-28T07:47:29.100921Z",
          "start_time": "2020-02-28T07:47:29.049613Z"
        },
        "colab": {
          "base_uri": "https://localhost:8080/"
        },
        "id": "wjsZFe5dScrA",
        "outputId": "a8b16515-7cf6-4579-906c-2c32e95d195c"
      },
      "outputs": [
        {
          "output_type": "stream",
          "name": "stdout",
          "text": [
            "<class 'pandas.core.frame.DataFrame'>\n",
            "RangeIndex: 46132 entries, 0 to 46131\n",
            "Data columns (total 5 columns):\n",
            " #   Column       Non-Null Count  Dtype  \n",
            "---  ------       --------------  -----  \n",
            " 0   drugName     46132 non-null  object \n",
            " 1   condition    46132 non-null  object \n",
            " 2   rating       46132 non-null  float64\n",
            " 3   usefulCount  46132 non-null  int64  \n",
            " 4   review       46130 non-null  object \n",
            "dtypes: float64(1), int64(1), object(3)\n",
            "memory usage: 1.8+ MB\n"
          ]
        }
      ],
      "source": [
        "# printing the info of the trained csv file\n",
        "df_train_s.info()"
      ]
    },
    {
      "cell_type": "code",
      "execution_count": null,
      "metadata": {
        "ExecuteTime": {
          "end_time": "2020-02-28T07:47:29.159263Z",
          "start_time": "2020-02-28T07:47:29.103818Z"
        },
        "id": "UM7nZrQeScrB"
      },
      "outputs": [],
      "source": [
        "#drop Nan value\n",
        "df_train_s.dropna(inplace=True)"
      ]
    },
    {
      "cell_type": "code",
      "execution_count": null,
      "metadata": {
        "ExecuteTime": {
          "end_time": "2020-02-28T07:47:29.166672Z",
          "start_time": "2020-02-28T07:47:29.161550Z"
        },
        "id": "TaXRVDIrScrB"
      },
      "outputs": [],
      "source": [
        "df_train_s.reset_index(inplace=True)"
      ]
    },
    {
      "cell_type": "code",
      "execution_count": null,
      "metadata": {
        "ExecuteTime": {
          "end_time": "2020-02-28T07:47:33.015994Z",
          "start_time": "2020-02-28T07:47:33.008429Z"
        },
        "colab": {
          "base_uri": "https://localhost:8080/"
        },
        "id": "BG7cMVZrScrC",
        "outputId": "709ae983-f5eb-47c8-c7f8-944b75c90643"
      },
      "outputs": [
        {
          "output_type": "execute_result",
          "data": {
            "text/plain": [
              "0                          Depression\n",
              "1        Crohn's Disease, Maintenance\n",
              "2             Urinary Tract Infection\n",
              "3                         Weight Loss\n",
              "4                       Birth Control\n",
              "                     ...             \n",
              "46125                   Birth Control\n",
              "46126                         Anxiety\n",
              "46127                   Birth Control\n",
              "46128                            Pain\n",
              "46129                        Sciatica\n",
              "Name: condition, Length: 46130, dtype: object"
            ]
          },
          "metadata": {},
          "execution_count": 8
        }
      ],
      "source": [
        "df_train_s['condition']"
      ]
    },
    {
      "cell_type": "code",
      "source": [
        "df_train_s['drugName']"
      ],
      "metadata": {
        "colab": {
          "base_uri": "https://localhost:8080/"
        },
        "id": "R9MUYzLPvZu7",
        "outputId": "c5b4e884-4b06-4898-afb2-4725f535adf8"
      },
      "execution_count": null,
      "outputs": [
        {
          "output_type": "execute_result",
          "data": {
            "text/plain": [
              "0            Mirtazapine\n",
              "1             Mesalamine\n",
              "2                Bactrim\n",
              "3               Contrave\n",
              "4        Cyclafem 1 / 35\n",
              "              ...       \n",
              "46125               Apri\n",
              "46126       Escitalopram\n",
              "46127     Levonorgestrel\n",
              "46128         Tapentadol\n",
              "46129          Arthrotec\n",
              "Name: drugName, Length: 46130, dtype: object"
            ]
          },
          "metadata": {},
          "execution_count": 9
        }
      ]
    },
    {
      "cell_type": "code",
      "source": [
        "drug_list = df_train_s['drugName'].tolist()"
      ],
      "metadata": {
        "id": "1W5Oi3ZLvfcY"
      },
      "execution_count": null,
      "outputs": []
    },
    {
      "cell_type": "code",
      "execution_count": null,
      "metadata": {
        "ExecuteTime": {
          "end_time": "2020-02-28T07:47:33.484383Z",
          "start_time": "2020-02-28T07:47:33.479704Z"
        },
        "id": "7cNIriT5ScrC"
      },
      "outputs": [],
      "source": [
        "condition_list=df_train_s['condition'].tolist()"
      ]
    },
    {
      "cell_type": "code",
      "execution_count": null,
      "metadata": {
        "ExecuteTime": {
          "end_time": "2020-02-28T07:47:34.426886Z",
          "start_time": "2020-02-28T07:47:34.423802Z"
        },
        "id": "_sBbtsfmScrD"
      },
      "outputs": [],
      "source": [
        "corpus_train=df_train_s.review\n",
        "# corpus_test=df_test_s.review\n"
      ]
    },
    {
      "cell_type": "code",
      "source": [
        "import nltk\n",
        "nltk.download('stopwords')\n"
      ],
      "metadata": {
        "colab": {
          "base_uri": "https://localhost:8080/"
        },
        "id": "ZUZ2616EYx7s",
        "outputId": "f3546da0-98d5-4d4d-c2bf-bcc7969ce1bf"
      },
      "execution_count": null,
      "outputs": [
        {
          "output_type": "stream",
          "name": "stdout",
          "text": [
            "[nltk_data] Downloading package stopwords to /root/nltk_data...\n",
            "[nltk_data]   Package stopwords is already up-to-date!\n"
          ]
        },
        {
          "output_type": "execute_result",
          "data": {
            "text/plain": [
              "True"
            ]
          },
          "metadata": {},
          "execution_count": 13
        }
      ]
    },
    {
      "cell_type": "code",
      "execution_count": null,
      "metadata": {
        "ExecuteTime": {
          "end_time": "2020-02-28T07:47:35.816603Z",
          "start_time": "2020-02-28T07:47:34.996440Z"
        },
        "id": "0oQPdzuPScrD"
      },
      "outputs": [],
      "source": [
        "#custom stopwords\n",
        "from nltk.corpus import stopwords\n",
        "\n",
        "stop = set(stopwords.words('english'))\n",
        "n = [\"aren't\",\"couldn't\",\"didn't\",\"doesn't\",\"don't\",\"hadn't\",\"hasn't\",\"haven't\",\"isn't\",\n",
        "     \"mightn't\",\"mustn't\",\"needn't\",\"no\",\"nor\",\"not\",\"shan't\",\"shouldn't\",\"wasn't\",\"weren't\",\"wouldn't\"]\n",
        "for i in n:\n",
        "    stop.remove(i)\n",
        "\n",
        "a = ['mg', 'week', 'month', 'day', 'january', 'february', 'march', 'april', 'may', 'june', 'july', \n",
        "     'august', 'september','october','november','december', 'iv','oral','pound',]\n",
        "for j in a:\n",
        "    stop.add(j)"
      ]
    },
    {
      "cell_type": "markdown",
      "metadata": {
        "id": "qASvnz50ScrE"
      },
      "source": [
        "### CountVectorizer"
      ]
    },
    {
      "cell_type": "code",
      "execution_count": null,
      "metadata": {
        "ExecuteTime": {
          "end_time": "2020-02-28T07:47:49.143780Z",
          "start_time": "2020-02-28T07:47:36.206929Z"
        },
        "colab": {
          "base_uri": "https://localhost:8080/"
        },
        "id": "Bb7DQcgoScrE",
        "outputId": "2cd5130b-20b3-4db0-8510-a081ad2f1232"
      },
      "outputs": [
        {
          "output_type": "execute_result",
          "data": {
            "text/plain": [
              "CountVectorizer(max_df=0.8, min_df=10, ngram_range=(2, 2))"
            ]
          },
          "metadata": {},
          "execution_count": 15
        }
      ],
      "source": [
        "# Create a CountVectorizer for parsing/counting words\n",
        "cv = CountVectorizer(ngram_range=(2, 2), min_df=10, max_df=0.8)\n",
        "\n",
        "cv.fit(corpus_train)"
      ]
    },
    {
      "cell_type": "code",
      "execution_count": null,
      "metadata": {
        "ExecuteTime": {
          "end_time": "2020-02-28T07:48:09.744295Z",
          "start_time": "2020-02-28T07:48:02.744254Z"
        },
        "id": "jtidr_hgScrF"
      },
      "outputs": [],
      "source": [
        "doc_word = cv.transform(corpus_train).transpose()"
      ]
    },
    {
      "cell_type": "code",
      "execution_count": null,
      "metadata": {
        "ExecuteTime": {
          "end_time": "2020-02-28T07:48:16.240356Z",
          "start_time": "2020-02-28T07:48:09.746913Z"
        },
        "colab": {
          "base_uri": "https://localhost:8080/",
          "height": 290
        },
        "id": "qMz9oXcwScrF",
        "outputId": "3993881f-424e-4377-b8eb-dbab2aa45ad0"
      },
      "outputs": [
        {
          "output_type": "stream",
          "name": "stderr",
          "text": [
            "/usr/local/lib/python3.7/dist-packages/sklearn/utils/deprecation.py:87: FutureWarning: Function get_feature_names is deprecated; get_feature_names is deprecated in 1.0 and will be removed in 1.2. Please use get_feature_names_out instead.\n",
            "  warnings.warn(msg, category=FutureWarning)\n"
          ]
        },
        {
          "output_type": "execute_result",
          "data": {
            "text/plain": [
              "                      0      1      2      3      4      5      6      7      \\\n",
              "abdominal area            0      0      0      0      0      0      0      0   \n",
              "abdominal cramp           0      0      0      0      0      0      0      0   \n",
              "abdominal cramping        0      0      0      0      0      0      0      0   \n",
              "abdominal discomfort      0      0      0      0      0      0      0      0   \n",
              "abdominal pain            0      0      0      0      0      0      0      0   \n",
              "\n",
              "                      8      9      ...  46120  46121  46122  46123  46124  \\\n",
              "abdominal area            0      0  ...      0      0      0      0      0   \n",
              "abdominal cramp           0      0  ...      0      0      0      0      0   \n",
              "abdominal cramping        0      0  ...      0      0      0      0      0   \n",
              "abdominal discomfort      0      0  ...      0      0      0      0      0   \n",
              "abdominal pain            0      0  ...      0      0      0      0      0   \n",
              "\n",
              "                      46125  46126  46127  46128  46129  \n",
              "abdominal area            0      0      0      0      0  \n",
              "abdominal cramp           0      0      0      0      0  \n",
              "abdominal cramping        0      0      0      0      0  \n",
              "abdominal discomfort      0      0      0      0      0  \n",
              "abdominal pain            0      0      0      0      0  \n",
              "\n",
              "[5 rows x 46130 columns]"
            ],
            "text/html": [
              "\n",
              "  <div id=\"df-7e1ef887-64f1-4eb1-b6c1-36589a140564\">\n",
              "    <div class=\"colab-df-container\">\n",
              "      <div>\n",
              "<style scoped>\n",
              "    .dataframe tbody tr th:only-of-type {\n",
              "        vertical-align: middle;\n",
              "    }\n",
              "\n",
              "    .dataframe tbody tr th {\n",
              "        vertical-align: top;\n",
              "    }\n",
              "\n",
              "    .dataframe thead th {\n",
              "        text-align: right;\n",
              "    }\n",
              "</style>\n",
              "<table border=\"1\" class=\"dataframe\">\n",
              "  <thead>\n",
              "    <tr style=\"text-align: right;\">\n",
              "      <th></th>\n",
              "      <th>0</th>\n",
              "      <th>1</th>\n",
              "      <th>2</th>\n",
              "      <th>3</th>\n",
              "      <th>4</th>\n",
              "      <th>5</th>\n",
              "      <th>6</th>\n",
              "      <th>7</th>\n",
              "      <th>8</th>\n",
              "      <th>9</th>\n",
              "      <th>...</th>\n",
              "      <th>46120</th>\n",
              "      <th>46121</th>\n",
              "      <th>46122</th>\n",
              "      <th>46123</th>\n",
              "      <th>46124</th>\n",
              "      <th>46125</th>\n",
              "      <th>46126</th>\n",
              "      <th>46127</th>\n",
              "      <th>46128</th>\n",
              "      <th>46129</th>\n",
              "    </tr>\n",
              "  </thead>\n",
              "  <tbody>\n",
              "    <tr>\n",
              "      <th>abdominal area</th>\n",
              "      <td>0</td>\n",
              "      <td>0</td>\n",
              "      <td>0</td>\n",
              "      <td>0</td>\n",
              "      <td>0</td>\n",
              "      <td>0</td>\n",
              "      <td>0</td>\n",
              "      <td>0</td>\n",
              "      <td>0</td>\n",
              "      <td>0</td>\n",
              "      <td>...</td>\n",
              "      <td>0</td>\n",
              "      <td>0</td>\n",
              "      <td>0</td>\n",
              "      <td>0</td>\n",
              "      <td>0</td>\n",
              "      <td>0</td>\n",
              "      <td>0</td>\n",
              "      <td>0</td>\n",
              "      <td>0</td>\n",
              "      <td>0</td>\n",
              "    </tr>\n",
              "    <tr>\n",
              "      <th>abdominal cramp</th>\n",
              "      <td>0</td>\n",
              "      <td>0</td>\n",
              "      <td>0</td>\n",
              "      <td>0</td>\n",
              "      <td>0</td>\n",
              "      <td>0</td>\n",
              "      <td>0</td>\n",
              "      <td>0</td>\n",
              "      <td>0</td>\n",
              "      <td>0</td>\n",
              "      <td>...</td>\n",
              "      <td>0</td>\n",
              "      <td>0</td>\n",
              "      <td>0</td>\n",
              "      <td>0</td>\n",
              "      <td>0</td>\n",
              "      <td>0</td>\n",
              "      <td>0</td>\n",
              "      <td>0</td>\n",
              "      <td>0</td>\n",
              "      <td>0</td>\n",
              "    </tr>\n",
              "    <tr>\n",
              "      <th>abdominal cramping</th>\n",
              "      <td>0</td>\n",
              "      <td>0</td>\n",
              "      <td>0</td>\n",
              "      <td>0</td>\n",
              "      <td>0</td>\n",
              "      <td>0</td>\n",
              "      <td>0</td>\n",
              "      <td>0</td>\n",
              "      <td>0</td>\n",
              "      <td>0</td>\n",
              "      <td>...</td>\n",
              "      <td>0</td>\n",
              "      <td>0</td>\n",
              "      <td>0</td>\n",
              "      <td>0</td>\n",
              "      <td>0</td>\n",
              "      <td>0</td>\n",
              "      <td>0</td>\n",
              "      <td>0</td>\n",
              "      <td>0</td>\n",
              "      <td>0</td>\n",
              "    </tr>\n",
              "    <tr>\n",
              "      <th>abdominal discomfort</th>\n",
              "      <td>0</td>\n",
              "      <td>0</td>\n",
              "      <td>0</td>\n",
              "      <td>0</td>\n",
              "      <td>0</td>\n",
              "      <td>0</td>\n",
              "      <td>0</td>\n",
              "      <td>0</td>\n",
              "      <td>0</td>\n",
              "      <td>0</td>\n",
              "      <td>...</td>\n",
              "      <td>0</td>\n",
              "      <td>0</td>\n",
              "      <td>0</td>\n",
              "      <td>0</td>\n",
              "      <td>0</td>\n",
              "      <td>0</td>\n",
              "      <td>0</td>\n",
              "      <td>0</td>\n",
              "      <td>0</td>\n",
              "      <td>0</td>\n",
              "    </tr>\n",
              "    <tr>\n",
              "      <th>abdominal pain</th>\n",
              "      <td>0</td>\n",
              "      <td>0</td>\n",
              "      <td>0</td>\n",
              "      <td>0</td>\n",
              "      <td>0</td>\n",
              "      <td>0</td>\n",
              "      <td>0</td>\n",
              "      <td>0</td>\n",
              "      <td>0</td>\n",
              "      <td>0</td>\n",
              "      <td>...</td>\n",
              "      <td>0</td>\n",
              "      <td>0</td>\n",
              "      <td>0</td>\n",
              "      <td>0</td>\n",
              "      <td>0</td>\n",
              "      <td>0</td>\n",
              "      <td>0</td>\n",
              "      <td>0</td>\n",
              "      <td>0</td>\n",
              "      <td>0</td>\n",
              "    </tr>\n",
              "  </tbody>\n",
              "</table>\n",
              "<p>5 rows × 46130 columns</p>\n",
              "</div>\n",
              "      <button class=\"colab-df-convert\" onclick=\"convertToInteractive('df-7e1ef887-64f1-4eb1-b6c1-36589a140564')\"\n",
              "              title=\"Convert this dataframe to an interactive table.\"\n",
              "              style=\"display:none;\">\n",
              "        \n",
              "  <svg xmlns=\"http://www.w3.org/2000/svg\" height=\"24px\"viewBox=\"0 0 24 24\"\n",
              "       width=\"24px\">\n",
              "    <path d=\"M0 0h24v24H0V0z\" fill=\"none\"/>\n",
              "    <path d=\"M18.56 5.44l.94 2.06.94-2.06 2.06-.94-2.06-.94-.94-2.06-.94 2.06-2.06.94zm-11 1L8.5 8.5l.94-2.06 2.06-.94-2.06-.94L8.5 2.5l-.94 2.06-2.06.94zm10 10l.94 2.06.94-2.06 2.06-.94-2.06-.94-.94-2.06-.94 2.06-2.06.94z\"/><path d=\"M17.41 7.96l-1.37-1.37c-.4-.4-.92-.59-1.43-.59-.52 0-1.04.2-1.43.59L10.3 9.45l-7.72 7.72c-.78.78-.78 2.05 0 2.83L4 21.41c.39.39.9.59 1.41.59.51 0 1.02-.2 1.41-.59l7.78-7.78 2.81-2.81c.8-.78.8-2.07 0-2.86zM5.41 20L4 18.59l7.72-7.72 1.47 1.35L5.41 20z\"/>\n",
              "  </svg>\n",
              "      </button>\n",
              "      \n",
              "  <style>\n",
              "    .colab-df-container {\n",
              "      display:flex;\n",
              "      flex-wrap:wrap;\n",
              "      gap: 12px;\n",
              "    }\n",
              "\n",
              "    .colab-df-convert {\n",
              "      background-color: #E8F0FE;\n",
              "      border: none;\n",
              "      border-radius: 50%;\n",
              "      cursor: pointer;\n",
              "      display: none;\n",
              "      fill: #1967D2;\n",
              "      height: 32px;\n",
              "      padding: 0 0 0 0;\n",
              "      width: 32px;\n",
              "    }\n",
              "\n",
              "    .colab-df-convert:hover {\n",
              "      background-color: #E2EBFA;\n",
              "      box-shadow: 0px 1px 2px rgba(60, 64, 67, 0.3), 0px 1px 3px 1px rgba(60, 64, 67, 0.15);\n",
              "      fill: #174EA6;\n",
              "    }\n",
              "\n",
              "    [theme=dark] .colab-df-convert {\n",
              "      background-color: #3B4455;\n",
              "      fill: #D2E3FC;\n",
              "    }\n",
              "\n",
              "    [theme=dark] .colab-df-convert:hover {\n",
              "      background-color: #434B5C;\n",
              "      box-shadow: 0px 1px 3px 1px rgba(0, 0, 0, 0.15);\n",
              "      filter: drop-shadow(0px 1px 2px rgba(0, 0, 0, 0.3));\n",
              "      fill: #FFFFFF;\n",
              "    }\n",
              "  </style>\n",
              "\n",
              "      <script>\n",
              "        const buttonEl =\n",
              "          document.querySelector('#df-7e1ef887-64f1-4eb1-b6c1-36589a140564 button.colab-df-convert');\n",
              "        buttonEl.style.display =\n",
              "          google.colab.kernel.accessAllowed ? 'block' : 'none';\n",
              "\n",
              "        async function convertToInteractive(key) {\n",
              "          const element = document.querySelector('#df-7e1ef887-64f1-4eb1-b6c1-36589a140564');\n",
              "          const dataTable =\n",
              "            await google.colab.kernel.invokeFunction('convertToInteractive',\n",
              "                                                     [key], {});\n",
              "          if (!dataTable) return;\n",
              "\n",
              "          const docLinkHtml = 'Like what you see? Visit the ' +\n",
              "            '<a target=\"_blank\" href=https://colab.research.google.com/notebooks/data_table.ipynb>data table notebook</a>'\n",
              "            + ' to learn more about interactive tables.';\n",
              "          element.innerHTML = '';\n",
              "          dataTable['output_type'] = 'display_data';\n",
              "          await google.colab.output.renderOutput(dataTable, element);\n",
              "          const docLink = document.createElement('div');\n",
              "          docLink.innerHTML = docLinkHtml;\n",
              "          element.appendChild(docLink);\n",
              "        }\n",
              "      </script>\n",
              "    </div>\n",
              "  </div>\n",
              "  "
            ]
          },
          "metadata": {},
          "execution_count": 17
        }
      ],
      "source": [
        "pd.DataFrame(doc_word.toarray(), cv.get_feature_names()).head()"
      ]
    },
    {
      "cell_type": "code",
      "execution_count": null,
      "metadata": {
        "ExecuteTime": {
          "end_time": "2020-02-28T07:48:16.245247Z",
          "start_time": "2020-02-28T07:48:16.242752Z"
        },
        "id": "17frlqVUScrF"
      },
      "outputs": [],
      "source": [
        "corpus = matutils.Sparse2Corpus(doc_word)"
      ]
    },
    {
      "cell_type": "code",
      "execution_count": null,
      "metadata": {
        "ExecuteTime": {
          "end_time": "2020-02-28T07:48:17.507913Z",
          "start_time": "2020-02-28T07:48:17.479216Z"
        },
        "id": "W4xH8sNXScrF"
      },
      "outputs": [],
      "source": [
        "id2word = dict((v, k) for k, v in cv.vocabulary_.items())"
      ]
    },
    {
      "cell_type": "code",
      "execution_count": null,
      "metadata": {
        "ExecuteTime": {
          "end_time": "2020-02-28T07:48:18.131450Z",
          "start_time": "2020-02-28T07:48:18.126570Z"
        },
        "colab": {
          "base_uri": "https://localhost:8080/"
        },
        "id": "l-sgpKprScrG",
        "outputId": "d33259dd-050e-4612-a1fd-1037fbd600c7"
      },
      "outputs": [
        {
          "output_type": "execute_result",
          "data": {
            "text/plain": [
              "23588"
            ]
          },
          "metadata": {},
          "execution_count": 20
        }
      ],
      "source": [
        "len(id2word)"
      ]
    },
    {
      "cell_type": "markdown",
      "metadata": {
        "id": "PbRFUO4NScrG"
      },
      "source": [
        "### LDA"
      ]
    },
    {
      "cell_type": "code",
      "execution_count": null,
      "metadata": {
        "ExecuteTime": {
          "end_time": "2020-02-28T07:48:29.021169Z",
          "start_time": "2020-02-28T07:48:18.817825Z"
        },
        "scrolled": true,
        "id": "BtLWky96ScrG"
      },
      "outputs": [],
      "source": [
        "lda = models.LdaModel(corpus=corpus, num_topics=2, id2word=id2word, passes=10)"
      ]
    },
    {
      "cell_type": "code",
      "execution_count": null,
      "metadata": {
        "ExecuteTime": {
          "end_time": "2020-02-28T07:48:29.024401Z",
          "start_time": "2020-02-28T07:48:19.438Z"
        },
        "colab": {
          "base_uri": "https://localhost:8080/"
        },
        "id": "Rtq_50YFScrH",
        "outputId": "933adaf3-cc17-4f2e-fbce-9cd21efdb7e6"
      },
      "outputs": [
        {
          "output_type": "execute_result",
          "data": {
            "text/plain": [
              "[(0,\n",
              "  '0.017*\"birth control\" + 0.010*\"side effect\" + 0.008*\"weight gain\" + 0.007*\"mood swing\" + 0.007*\"sex drive\" + 0.004*\"taking pill\" + 0.003*\"lost lb\" + 0.003*\"weight loss\" + 0.003*\"lost pound\" + 0.003*\"started taking\"'),\n",
              " (1,\n",
              "  '0.023*\"side effect\" + 0.004*\"panic attack\" + 0.004*\"no side\" + 0.004*\"feel like\" + 0.004*\"year old\" + 0.003*\"started taking\" + 0.003*\"year ago\" + 0.003*\"blood pressure\" + 0.002*\"first time\" + 0.002*\"felt like\"')]"
            ]
          },
          "metadata": {},
          "execution_count": 22
        }
      ],
      "source": [
        "lda.print_topics()"
      ]
    },
    {
      "cell_type": "code",
      "execution_count": null,
      "metadata": {
        "ExecuteTime": {
          "end_time": "2020-02-28T07:48:29.026136Z",
          "start_time": "2020-02-28T07:48:20.862Z"
        },
        "colab": {
          "base_uri": "https://localhost:8080/"
        },
        "id": "o3XxKh71ScrH",
        "outputId": "80a7e791-badb-4dec-9c6a-71442b17bbe2"
      },
      "outputs": [
        {
          "output_type": "execute_result",
          "data": {
            "text/plain": [
              "<gensim.interfaces.TransformedCorpus at 0x7f736eb15fd0>"
            ]
          },
          "metadata": {},
          "execution_count": 23
        }
      ],
      "source": [
        "lda_corpus = lda[corpus]\n",
        "lda_corpus"
      ]
    },
    {
      "cell_type": "code",
      "execution_count": null,
      "metadata": {
        "ExecuteTime": {
          "end_time": "2020-02-28T05:25:29.134075Z",
          "start_time": "2020-02-28T05:24:53.909104Z"
        },
        "id": "_4eGXkAwScrI"
      },
      "outputs": [],
      "source": [
        "lda_docs = [doc for doc in lda_corpus]"
      ]
    },
    {
      "cell_type": "code",
      "execution_count": null,
      "metadata": {
        "ExecuteTime": {
          "end_time": "2020-02-28T05:25:41.623550Z",
          "start_time": "2020-02-28T05:25:41.618137Z"
        },
        "colab": {
          "base_uri": "https://localhost:8080/"
        },
        "id": "f7eD6roHScrI",
        "outputId": "b0dedb90-d724-42da-ccff-2607647c14ac"
      },
      "outputs": [
        {
          "output_type": "execute_result",
          "data": {
            "text/plain": [
              "[[(0, 0.3248272), (1, 0.67517275)],\n",
              " [(0, 0.1489023), (1, 0.8510977)],\n",
              " [(0, 0.5), (1, 0.5)],\n",
              " [(0, 0.479615), (1, 0.52038497)],\n",
              " [(0, 0.9016259), (1, 0.09837415)]]"
            ]
          },
          "metadata": {},
          "execution_count": 25
        }
      ],
      "source": [
        "lda_docs[0:5]"
      ]
    },
    {
      "cell_type": "code",
      "execution_count": null,
      "metadata": {
        "ExecuteTime": {
          "end_time": "2020-02-28T05:25:43.769121Z",
          "start_time": "2020-02-28T05:25:43.764310Z"
        },
        "colab": {
          "base_uri": "https://localhost:8080/"
        },
        "id": "ImhzyR73ScrI",
        "outputId": "68ec5069-96f6-41fb-ddd5-7a2503ef5fe2"
      },
      "outputs": [
        {
          "output_type": "execute_result",
          "data": {
            "text/plain": [
              "46130"
            ]
          },
          "metadata": {},
          "execution_count": 26
        }
      ],
      "source": [
        "len(lda_docs)"
      ]
    },
    {
      "cell_type": "code",
      "execution_count": null,
      "metadata": {
        "ExecuteTime": {
          "end_time": "2020-02-28T05:25:47.049609Z",
          "start_time": "2020-02-28T05:25:45.127634Z"
        },
        "colab": {
          "base_uri": "https://localhost:8080/",
          "height": 412
        },
        "id": "csj65r7lScrI",
        "outputId": "0ec53375-f49c-4209-c89a-2bf7351ebefd"
      },
      "outputs": [
        {
          "output_type": "display_data",
          "data": {
            "text/plain": [
              "<Figure size 720x1440 with 2 Axes>"
            ],
            "image/svg+xml": "<?xml version=\"1.0\" encoding=\"utf-8\" standalone=\"no\"?>\n<!DOCTYPE svg PUBLIC \"-//W3C//DTD SVG 1.1//EN\"\n  \"http://www.w3.org/Graphics/SVG/1.1/DTD/svg11.dtd\">\n<!-- Created with matplotlib (https://matplotlib.org/) -->\n<svg height=\"280.0935pt\" version=\"1.1\" viewBox=\"0 0 712.8 280.0935\" width=\"712.8pt\" xmlns=\"http://www.w3.org/2000/svg\" xmlns:xlink=\"http://www.w3.org/1999/xlink\">\n <defs>\n  <style type=\"text/css\">\n*{stroke-linecap:butt;stroke-linejoin:round;}\n  </style>\n </defs>\n <g id=\"figure_1\">\n  <g id=\"patch_1\">\n   <path d=\"M 0 280.0935 \nL 712.8 280.0935 \nL 712.8 0 \nL 0 0 \nz\n\" style=\"fill:none;\"/>\n  </g>\n  <g id=\"axes_1\">\n   <g clip-path=\"url(#p2f3159e1a8)\">\n    <image height=\"248\" id=\"image5979c8c976\" transform=\"scale(1 -1)translate(0 -248)\" width=\"344\" x=\"7.2\" xlink:href=\"data:image/png;base64,\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\" y=\"-24.8935\"/>\n   </g>\n   <g id=\"text_1\">\n    <!-- Topic 0 -->\n    <defs>\n     <path d=\"M -0.296875 72.90625 \nL 61.375 72.90625 \nL 61.375 64.59375 \nL 35.5 64.59375 \nL 35.5 0 \nL 25.59375 0 \nL 25.59375 64.59375 \nL -0.296875 64.59375 \nz\n\" id=\"DejaVuSans-84\"/>\n     <path d=\"M 30.609375 48.390625 \nQ 23.390625 48.390625 19.1875 42.75 \nQ 14.984375 37.109375 14.984375 27.296875 \nQ 14.984375 17.484375 19.15625 11.84375 \nQ 23.34375 6.203125 30.609375 6.203125 \nQ 37.796875 6.203125 41.984375 11.859375 \nQ 46.1875 17.53125 46.1875 27.296875 \nQ 46.1875 37.015625 41.984375 42.703125 \nQ 37.796875 48.390625 30.609375 48.390625 \nz\nM 30.609375 56 \nQ 42.328125 56 49.015625 48.375 \nQ 55.71875 40.765625 55.71875 27.296875 \nQ 55.71875 13.875 49.015625 6.21875 \nQ 42.328125 -1.421875 30.609375 -1.421875 \nQ 18.84375 -1.421875 12.171875 6.21875 \nQ 5.515625 13.875 5.515625 27.296875 \nQ 5.515625 40.765625 12.171875 48.375 \nQ 18.84375 56 30.609375 56 \nz\n\" id=\"DejaVuSans-111\"/>\n     <path d=\"M 18.109375 8.203125 \nL 18.109375 -20.796875 \nL 9.078125 -20.796875 \nL 9.078125 54.6875 \nL 18.109375 54.6875 \nL 18.109375 46.390625 \nQ 20.953125 51.265625 25.265625 53.625 \nQ 29.59375 56 35.59375 56 \nQ 45.5625 56 51.78125 48.09375 \nQ 58.015625 40.1875 58.015625 27.296875 \nQ 58.015625 14.40625 51.78125 6.484375 \nQ 45.5625 -1.421875 35.59375 -1.421875 \nQ 29.59375 -1.421875 25.265625 0.953125 \nQ 20.953125 3.328125 18.109375 8.203125 \nz\nM 48.6875 27.296875 \nQ 48.6875 37.203125 44.609375 42.84375 \nQ 40.53125 48.484375 33.40625 48.484375 \nQ 26.265625 48.484375 22.1875 42.84375 \nQ 18.109375 37.203125 18.109375 27.296875 \nQ 18.109375 17.390625 22.1875 11.75 \nQ 26.265625 6.109375 33.40625 6.109375 \nQ 40.53125 6.109375 44.609375 11.75 \nQ 48.6875 17.390625 48.6875 27.296875 \nz\n\" id=\"DejaVuSans-112\"/>\n     <path d=\"M 9.421875 54.6875 \nL 18.40625 54.6875 \nL 18.40625 0 \nL 9.421875 0 \nz\nM 9.421875 75.984375 \nL 18.40625 75.984375 \nL 18.40625 64.59375 \nL 9.421875 64.59375 \nz\n\" id=\"DejaVuSans-105\"/>\n     <path d=\"M 48.78125 52.59375 \nL 48.78125 44.1875 \nQ 44.96875 46.296875 41.140625 47.34375 \nQ 37.3125 48.390625 33.40625 48.390625 \nQ 24.65625 48.390625 19.8125 42.84375 \nQ 14.984375 37.3125 14.984375 27.296875 \nQ 14.984375 17.28125 19.8125 11.734375 \nQ 24.65625 6.203125 33.40625 6.203125 \nQ 37.3125 6.203125 41.140625 7.25 \nQ 44.96875 8.296875 48.78125 10.40625 \nL 48.78125 2.09375 \nQ 45.015625 0.34375 40.984375 -0.53125 \nQ 36.96875 -1.421875 32.421875 -1.421875 \nQ 20.0625 -1.421875 12.78125 6.34375 \nQ 5.515625 14.109375 5.515625 27.296875 \nQ 5.515625 40.671875 12.859375 48.328125 \nQ 20.21875 56 33.015625 56 \nQ 37.15625 56 41.109375 55.140625 \nQ 45.0625 54.296875 48.78125 52.59375 \nz\n\" id=\"DejaVuSans-99\"/>\n     <path id=\"DejaVuSans-32\"/>\n     <path d=\"M 31.78125 66.40625 \nQ 24.171875 66.40625 20.328125 58.90625 \nQ 16.5 51.421875 16.5 36.375 \nQ 16.5 21.390625 20.328125 13.890625 \nQ 24.171875 6.390625 31.78125 6.390625 \nQ 39.453125 6.390625 43.28125 13.890625 \nQ 47.125 21.390625 47.125 36.375 \nQ 47.125 51.421875 43.28125 58.90625 \nQ 39.453125 66.40625 31.78125 66.40625 \nz\nM 31.78125 74.21875 \nQ 44.046875 74.21875 50.515625 64.515625 \nQ 56.984375 54.828125 56.984375 36.375 \nQ 56.984375 17.96875 50.515625 8.265625 \nQ 44.046875 -1.421875 31.78125 -1.421875 \nQ 19.53125 -1.421875 13.0625 8.265625 \nQ 6.59375 17.96875 6.59375 36.375 \nQ 6.59375 54.828125 13.0625 64.515625 \nQ 19.53125 74.21875 31.78125 74.21875 \nz\n\" id=\"DejaVuSans-48\"/>\n    </defs>\n    <g transform=\"translate(151.34625 19.3575)scale(0.16 -0.16)\">\n     <use xlink:href=\"#DejaVuSans-84\"/>\n     <use x=\"44.083984\" xlink:href=\"#DejaVuSans-111\"/>\n     <use x=\"105.265625\" xlink:href=\"#DejaVuSans-112\"/>\n     <use x=\"168.742188\" xlink:href=\"#DejaVuSans-105\"/>\n     <use x=\"196.525391\" xlink:href=\"#DejaVuSans-99\"/>\n     <use x=\"251.505859\" xlink:href=\"#DejaVuSans-32\"/>\n     <use x=\"283.292969\" xlink:href=\"#DejaVuSans-48\"/>\n    </g>\n   </g>\n  </g>\n  <g id=\"axes_2\">\n   <g clip-path=\"url(#p732fd586b0)\">\n    <image height=\"248\" id=\"imagee499e40983\" transform=\"scale(1 -1)translate(0 -248)\" width=\"344\" x=\"361.8\" xlink:href=\"data:image/png;base64,\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\" y=\"-24.8935\"/>\n   </g>\n   <g id=\"text_2\">\n    <!-- Topic 1 -->\n    <defs>\n     <path d=\"M 12.40625 8.296875 \nL 28.515625 8.296875 \nL 28.515625 63.921875 \nL 10.984375 60.40625 \nL 10.984375 69.390625 \nL 28.421875 72.90625 \nL 38.28125 72.90625 \nL 38.28125 8.296875 \nL 54.390625 8.296875 \nL 54.390625 0 \nL 12.40625 0 \nz\n\" id=\"DejaVuSans-49\"/>\n    </defs>\n    <g transform=\"translate(505.94625 19.3575)scale(0.16 -0.16)\">\n     <use xlink:href=\"#DejaVuSans-84\"/>\n     <use x=\"44.083984\" xlink:href=\"#DejaVuSans-111\"/>\n     <use x=\"105.265625\" xlink:href=\"#DejaVuSans-112\"/>\n     <use x=\"168.742188\" xlink:href=\"#DejaVuSans-105\"/>\n     <use x=\"196.525391\" xlink:href=\"#DejaVuSans-99\"/>\n     <use x=\"251.505859\" xlink:href=\"#DejaVuSans-32\"/>\n     <use x=\"283.292969\" xlink:href=\"#DejaVuSans-49\"/>\n    </g>\n   </g>\n  </g>\n </g>\n <defs>\n  <clipPath id=\"p2f3159e1a8\">\n   <rect height=\"247.536\" width=\"343.8\" x=\"7.2\" y=\"25.3575\"/>\n  </clipPath>\n  <clipPath id=\"p732fd586b0\">\n   <rect height=\"247.536\" width=\"343.8\" x=\"361.8\" y=\"25.3575\"/>\n  </clipPath>\n </defs>\n</svg>\n"
          },
          "metadata": {
            "needs_background": "light"
          }
        },
        {
          "output_type": "display_data",
          "data": {
            "text/plain": [
              "<Figure size 432x288 with 0 Axes>"
            ]
          },
          "metadata": {}
        }
      ],
      "source": [
        "from wordcloud import WordCloud\n",
        "import matplotlib.colors as mcolors\n",
        "\n",
        "cols = [color for name, color in mcolors.TABLEAU_COLORS.items()]  # more colors: 'mcolors.XKCD_COLORS'\n",
        "\n",
        "cloud = WordCloud(stopwords=stop,\n",
        "                  background_color='white',\n",
        "                  width=2500,\n",
        "                  height=1800,\n",
        "                  max_words=10,\n",
        "                  colormap='tab10',\n",
        "                  color_func=lambda *args, **kwargs: cols[i],\n",
        "                  prefer_horizontal=1.0)\n",
        "\n",
        "topics = lda.show_topics(formatted=False)\n",
        "\n",
        "fig, axes = plt.subplots(1, 2, figsize=(10,20), sharex=True, sharey=True)\n",
        "\n",
        "for i, ax in enumerate(axes.flatten()):\n",
        "    fig.add_subplot(ax)\n",
        "    topic_words = dict(topics[i][1])\n",
        "    cloud.generate_from_frequencies(topic_words, max_font_size=300)\n",
        "    plt.gca().imshow(cloud)\n",
        "    plt.gca().set_title('Topic ' + str(i), fontdict=dict(size=16))\n",
        "    plt.gca().axis('off')\n",
        "\n",
        "plt.subplots_adjust(wspace=0, hspace=0)\n",
        "plt.axis('off')\n",
        "plt.margins(x=0, y=0)\n",
        "plt.tight_layout()\n",
        "plt.show()\n",
        "\n",
        "plt.savefig('/wc_bigram_lda-2.svg')\n"
      ]
    },
    {
      "cell_type": "markdown",
      "source": [
        "Coherence"
      ],
      "metadata": {
        "id": "KRXzSNsERvF5"
      }
    },
    {
      "cell_type": "code",
      "execution_count": null,
      "metadata": {
        "ExecuteTime": {
          "end_time": "2020-02-28T07:54:56.880398Z",
          "start_time": "2020-02-28T07:48:42.431214Z"
        },
        "id": "t8U52KkXScrL"
      },
      "outputs": [],
      "source": [
        "lda1 = models.LdaModel(corpus=corpus, num_topics=4, id2word=id2word, passes=10)"
      ]
    },
    {
      "cell_type": "code",
      "source": [
        "import re\n",
        "import string"
      ],
      "metadata": {
        "id": "fOSQZlE9Ptf3"
      },
      "execution_count": null,
      "outputs": []
    },
    {
      "cell_type": "code",
      "source": [
        "df_train = pd.read_csv('/content/drive/MyDrive/MIS6-Sem6/drugsCom/drugsComTest_raw.tsv',sep=None)\n",
        "df_test = pd.read_csv('/content/drive/MyDrive/MIS6-Sem6/drugsCom/drugsComTest_raw.tsv',sep=None)\n",
        "drug_per_condition = df_train.groupby(['condition'])['drugName'].nunique().sort_values(ascending=False)\n",
        "condition_1=drug_per_condition[drug_per_condition<=10].keys()\n",
        "df_test1=df_test[~df_test['condition'].isin(condition_1)]\n",
        "# Text preprocessing steps - remove numbers, captial letters and punctuation\n",
        "alphanumeric=lambda x: re.sub('[^a-zA-Z]', ' ', str(x))\n",
        "punc_lower=lambda x: re.sub('[%s]' % re.escape(string.punctuation), ' ', x.lower())\n",
        "split=lambda x: x.split()\n",
        "\n",
        "df_test1['review'] = df_test1.review.map(alphanumeric).map(punc_lower).map(split)\n",
        "texts=df_test1['review'].to_list()\n"
      ],
      "metadata": {
        "colab": {
          "base_uri": "https://localhost:8080/"
        },
        "id": "uSUz8KYgPq_c",
        "outputId": "4d843494-73c4-45cb-e0b8-5d009c5964dd"
      },
      "execution_count": null,
      "outputs": [
        {
          "output_type": "stream",
          "name": "stderr",
          "text": [
            "/usr/local/lib/python3.7/dist-packages/pandas/util/_decorators.py:311: ParserWarning: Falling back to the 'python' engine because the 'c' engine does not support sep=None with delim_whitespace=False; you can avoid this warning by specifying engine='python'.\n",
            "  return func(*args, **kwargs)\n",
            "/usr/local/lib/python3.7/dist-packages/ipykernel_launcher.py:11: SettingWithCopyWarning: \n",
            "A value is trying to be set on a copy of a slice from a DataFrame.\n",
            "Try using .loc[row_indexer,col_indexer] = value instead\n",
            "\n",
            "See the caveats in the documentation: https://pandas.pydata.org/pandas-docs/stable/user_guide/indexing.html#returning-a-view-versus-a-copy\n",
            "  # This is added back by InteractiveShellApp.init_path()\n"
          ]
        }
      ]
    },
    {
      "cell_type": "code",
      "source": [
        "import gensim.corpora as corpora\n",
        "id2word1=corpora.Dictionary(texts)"
      ],
      "metadata": {
        "id": "hwIK5k-VRUZa"
      },
      "execution_count": null,
      "outputs": []
    },
    {
      "cell_type": "code",
      "source": [
        "from gensim.models import CoherenceModel\n",
        "\n",
        "coherence=CoherenceModel(model=lda1,texts=texts,dictionary=id2word1,coherence='c_v')\n",
        "coherence_lda=coherence.get_coherence()\n",
        "print(\"Score:\",coherence_lda)"
      ],
      "metadata": {
        "colab": {
          "base_uri": "https://localhost:8080/"
        },
        "id": "Z3JB5vvgPZx9",
        "outputId": "97f4dad6-97a7-4102-bf9a-b8cef1e0809b"
      },
      "execution_count": null,
      "outputs": [
        {
          "output_type": "stream",
          "name": "stdout",
          "text": [
            "Score: 0.8082018174283375\n"
          ]
        }
      ]
    },
    {
      "cell_type": "code",
      "execution_count": null,
      "metadata": {
        "ExecuteTime": {
          "end_time": "2020-02-28T07:54:56.890117Z",
          "start_time": "2020-02-28T07:54:56.882352Z"
        },
        "colab": {
          "base_uri": "https://localhost:8080/"
        },
        "id": "nZ2NyzNRScrL",
        "outputId": "1246ee68-6037-4671-b742-8d3d04b06bab"
      },
      "outputs": [
        {
          "output_type": "execute_result",
          "data": {
            "text/plain": [
              "[(0,\n",
              "  '0.024*\"birth control\" + 0.011*\"mood swing\" + 0.010*\"weight gain\" + 0.009*\"sex drive\" + 0.009*\"side effect\" + 0.004*\"taking pill\" + 0.003*\"gain weight\" + 0.003*\"control pill\" + 0.003*\"gained lb\" + 0.003*\"take pill\"'),\n",
              " (1,\n",
              "  '0.035*\"side effect\" + 0.007*\"feel like\" + 0.006*\"no side\" + 0.005*\"year ago\" + 0.005*\"started taking\" + 0.005*\"much better\" + 0.004*\"year old\" + 0.003*\"feel better\" + 0.003*\"anxiety depression\" + 0.003*\"could not\"'),\n",
              " (2,\n",
              "  '0.023*\"side effect\" + 0.007*\"blood pressure\" + 0.005*\"dry mouth\" + 0.005*\"lost lb\" + 0.004*\"weight loss\" + 0.004*\"started taking\" + 0.004*\"no side\" + 0.004*\"lost pound\" + 0.003*\"work well\" + 0.003*\"lose weight\"'),\n",
              " (3,\n",
              "  '0.013*\"panic attack\" + 0.006*\"year old\" + 0.004*\"felt like\" + 0.004*\"go away\" + 0.003*\"would not\" + 0.003*\"yeast infection\" + 0.003*\"went away\" + 0.003*\"feel like\" + 0.003*\"anxiety panic\" + 0.003*\"first time\"')]"
            ]
          },
          "metadata": {},
          "execution_count": 29
        }
      ],
      "source": [
        "lda1.print_topics()"
      ]
    },
    {
      "cell_type": "code",
      "execution_count": null,
      "metadata": {
        "ExecuteTime": {
          "end_time": "2020-02-28T08:17:30.396013Z",
          "start_time": "2020-02-28T08:17:30.391566Z"
        },
        "colab": {
          "base_uri": "https://localhost:8080/"
        },
        "id": "IfWISemWScrM",
        "outputId": "bcbdfffd-2769-4787-e4b9-ecbce1ee55ed"
      },
      "outputs": [
        {
          "output_type": "execute_result",
          "data": {
            "text/plain": [
              "<gensim.interfaces.TransformedCorpus at 0x7f736ea33390>"
            ]
          },
          "metadata": {},
          "execution_count": 30
        }
      ],
      "source": [
        "all_topics = lda1.get_document_topics(corpus)\n",
        "all_topics"
      ]
    },
    {
      "cell_type": "code",
      "execution_count": null,
      "metadata": {
        "ExecuteTime": {
          "end_time": "2020-02-28T08:17:55.757516Z",
          "start_time": "2020-02-28T08:17:55.754279Z"
        },
        "id": "h27qHEWwScrM"
      },
      "outputs": [],
      "source": [
        "num_docs = len(all_topics)"
      ]
    },
    {
      "cell_type": "code",
      "execution_count": null,
      "metadata": {
        "ExecuteTime": {
          "end_time": "2020-02-28T07:54:56.897224Z",
          "start_time": "2020-02-28T07:54:56.892903Z"
        },
        "colab": {
          "base_uri": "https://localhost:8080/"
        },
        "id": "c91ZaaoIScrN",
        "outputId": "39453d27-24f8-47df-c3a3-551453e9a636"
      },
      "outputs": [
        {
          "output_type": "execute_result",
          "data": {
            "text/plain": [
              "<gensim.interfaces.TransformedCorpus at 0x7f736d7033d0>"
            ]
          },
          "metadata": {},
          "execution_count": 32
        }
      ],
      "source": [
        "lda_corpus1 = lda1[corpus]\n",
        "lda_corpus1"
      ]
    },
    {
      "cell_type": "code",
      "execution_count": null,
      "metadata": {
        "ExecuteTime": {
          "end_time": "2020-02-28T07:55:28.381843Z",
          "start_time": "2020-02-28T07:54:56.899724Z"
        },
        "id": "dm2O6SENScrN"
      },
      "outputs": [],
      "source": [
        "lda_docs1 = [doc for doc in lda_corpus1]"
      ]
    },
    {
      "cell_type": "code",
      "execution_count": null,
      "metadata": {
        "ExecuteTime": {
          "end_time": "2020-02-28T07:55:28.390438Z",
          "start_time": "2020-02-28T07:55:28.383932Z"
        },
        "colab": {
          "base_uri": "https://localhost:8080/"
        },
        "id": "Q-COFbJ1ScrO",
        "outputId": "d45610e8-f36e-4e54-8e18-07b7391b368f"
      },
      "outputs": [
        {
          "output_type": "execute_result",
          "data": {
            "text/plain": [
              "[[(0, 0.28783017), (1, 0.5922453), (2, 0.012845856), (3, 0.10707865)],\n",
              " [(0, 0.102151714), (1, 0.018133461), (2, 0.8616583), (3, 0.018056536)],\n",
              " [(0, 0.25), (1, 0.25), (2, 0.25), (3, 0.25)],\n",
              " [(0, 0.074303105), (1, 0.23934151), (2, 0.43456542), (3, 0.25179)],\n",
              " [(0, 0.7490548), (2, 0.1490675), (3, 0.09401318)]]"
            ]
          },
          "metadata": {},
          "execution_count": 34
        }
      ],
      "source": [
        "lda_docs1[0:5]"
      ]
    },
    {
      "cell_type": "code",
      "execution_count": null,
      "metadata": {
        "ExecuteTime": {
          "end_time": "2020-02-28T08:01:48.633158Z",
          "start_time": "2020-02-28T08:01:48.628499Z"
        },
        "colab": {
          "base_uri": "https://localhost:8080/"
        },
        "id": "SB_q2y7TScrO",
        "outputId": "cb862bc3-0aab-4c17-b099-a0b0fcc3beab"
      },
      "outputs": [
        {
          "output_type": "execute_result",
          "data": {
            "text/plain": [
              "46130"
            ]
          },
          "metadata": {},
          "execution_count": 35
        }
      ],
      "source": [
        "len(lda_docs1)"
      ]
    },
    {
      "cell_type": "code",
      "execution_count": null,
      "metadata": {
        "ExecuteTime": {
          "end_time": "2020-02-28T08:59:30.767676Z",
          "start_time": "2020-02-28T08:43:36.182246Z"
        },
        "colab": {
          "base_uri": "https://localhost:8080/",
          "height": 206
        },
        "id": "hpkIp2n6ScrO",
        "outputId": "0eb990b0-889d-43ff-b626-fc94f963773e"
      },
      "outputs": [
        {
          "output_type": "execute_result",
          "data": {
            "text/plain": [
              "   Dominant_Topic  Perc_Contribution  \\\n",
              "0             1.0             0.5922   \n",
              "1             2.0             0.8617   \n",
              "2             0.0             0.2500   \n",
              "3             2.0             0.4346   \n",
              "4             0.0             0.7492   \n",
              "\n",
              "                                      Topic_Keywords  \\\n",
              "0          side effect, feel like, no side, year ago   \n",
              "1    side effect, blood pressure, dry mouth, lost lb   \n",
              "2  birth control, mood swing, weight gain, sex drive   \n",
              "3    side effect, blood pressure, dry mouth, lost lb   \n",
              "4  birth control, mood swing, weight gain, sex drive   \n",
              "\n",
              "                                              review  \n",
              "0  tried antidepressant year citalopram fluoxetin...  \n",
              "1  son crohn disease done well asacol no complain...  \n",
              "2                            quick reduction symptom  \n",
              "3  contrave combine drug used alcohol smoking opi...  \n",
              "4  birth control one cycle reading review type si...  "
            ],
            "text/html": [
              "\n",
              "  <div id=\"df-d65d0123-06d6-43a1-82d1-6c0085e1e3b8\">\n",
              "    <div class=\"colab-df-container\">\n",
              "      <div>\n",
              "<style scoped>\n",
              "    .dataframe tbody tr th:only-of-type {\n",
              "        vertical-align: middle;\n",
              "    }\n",
              "\n",
              "    .dataframe tbody tr th {\n",
              "        vertical-align: top;\n",
              "    }\n",
              "\n",
              "    .dataframe thead th {\n",
              "        text-align: right;\n",
              "    }\n",
              "</style>\n",
              "<table border=\"1\" class=\"dataframe\">\n",
              "  <thead>\n",
              "    <tr style=\"text-align: right;\">\n",
              "      <th></th>\n",
              "      <th>Dominant_Topic</th>\n",
              "      <th>Perc_Contribution</th>\n",
              "      <th>Topic_Keywords</th>\n",
              "      <th>review</th>\n",
              "    </tr>\n",
              "  </thead>\n",
              "  <tbody>\n",
              "    <tr>\n",
              "      <th>0</th>\n",
              "      <td>1.0</td>\n",
              "      <td>0.5922</td>\n",
              "      <td>side effect, feel like, no side, year ago</td>\n",
              "      <td>tried antidepressant year citalopram fluoxetin...</td>\n",
              "    </tr>\n",
              "    <tr>\n",
              "      <th>1</th>\n",
              "      <td>2.0</td>\n",
              "      <td>0.8617</td>\n",
              "      <td>side effect, blood pressure, dry mouth, lost lb</td>\n",
              "      <td>son crohn disease done well asacol no complain...</td>\n",
              "    </tr>\n",
              "    <tr>\n",
              "      <th>2</th>\n",
              "      <td>0.0</td>\n",
              "      <td>0.2500</td>\n",
              "      <td>birth control, mood swing, weight gain, sex drive</td>\n",
              "      <td>quick reduction symptom</td>\n",
              "    </tr>\n",
              "    <tr>\n",
              "      <th>3</th>\n",
              "      <td>2.0</td>\n",
              "      <td>0.4346</td>\n",
              "      <td>side effect, blood pressure, dry mouth, lost lb</td>\n",
              "      <td>contrave combine drug used alcohol smoking opi...</td>\n",
              "    </tr>\n",
              "    <tr>\n",
              "      <th>4</th>\n",
              "      <td>0.0</td>\n",
              "      <td>0.7492</td>\n",
              "      <td>birth control, mood swing, weight gain, sex drive</td>\n",
              "      <td>birth control one cycle reading review type si...</td>\n",
              "    </tr>\n",
              "  </tbody>\n",
              "</table>\n",
              "</div>\n",
              "      <button class=\"colab-df-convert\" onclick=\"convertToInteractive('df-d65d0123-06d6-43a1-82d1-6c0085e1e3b8')\"\n",
              "              title=\"Convert this dataframe to an interactive table.\"\n",
              "              style=\"display:none;\">\n",
              "        \n",
              "  <svg xmlns=\"http://www.w3.org/2000/svg\" height=\"24px\"viewBox=\"0 0 24 24\"\n",
              "       width=\"24px\">\n",
              "    <path d=\"M0 0h24v24H0V0z\" fill=\"none\"/>\n",
              "    <path d=\"M18.56 5.44l.94 2.06.94-2.06 2.06-.94-2.06-.94-.94-2.06-.94 2.06-2.06.94zm-11 1L8.5 8.5l.94-2.06 2.06-.94-2.06-.94L8.5 2.5l-.94 2.06-2.06.94zm10 10l.94 2.06.94-2.06 2.06-.94-2.06-.94-.94-2.06-.94 2.06-2.06.94z\"/><path d=\"M17.41 7.96l-1.37-1.37c-.4-.4-.92-.59-1.43-.59-.52 0-1.04.2-1.43.59L10.3 9.45l-7.72 7.72c-.78.78-.78 2.05 0 2.83L4 21.41c.39.39.9.59 1.41.59.51 0 1.02-.2 1.41-.59l7.78-7.78 2.81-2.81c.8-.78.8-2.07 0-2.86zM5.41 20L4 18.59l7.72-7.72 1.47 1.35L5.41 20z\"/>\n",
              "  </svg>\n",
              "      </button>\n",
              "      \n",
              "  <style>\n",
              "    .colab-df-container {\n",
              "      display:flex;\n",
              "      flex-wrap:wrap;\n",
              "      gap: 12px;\n",
              "    }\n",
              "\n",
              "    .colab-df-convert {\n",
              "      background-color: #E8F0FE;\n",
              "      border: none;\n",
              "      border-radius: 50%;\n",
              "      cursor: pointer;\n",
              "      display: none;\n",
              "      fill: #1967D2;\n",
              "      height: 32px;\n",
              "      padding: 0 0 0 0;\n",
              "      width: 32px;\n",
              "    }\n",
              "\n",
              "    .colab-df-convert:hover {\n",
              "      background-color: #E2EBFA;\n",
              "      box-shadow: 0px 1px 2px rgba(60, 64, 67, 0.3), 0px 1px 3px 1px rgba(60, 64, 67, 0.15);\n",
              "      fill: #174EA6;\n",
              "    }\n",
              "\n",
              "    [theme=dark] .colab-df-convert {\n",
              "      background-color: #3B4455;\n",
              "      fill: #D2E3FC;\n",
              "    }\n",
              "\n",
              "    [theme=dark] .colab-df-convert:hover {\n",
              "      background-color: #434B5C;\n",
              "      box-shadow: 0px 1px 3px 1px rgba(0, 0, 0, 0.15);\n",
              "      filter: drop-shadow(0px 1px 2px rgba(0, 0, 0, 0.3));\n",
              "      fill: #FFFFFF;\n",
              "    }\n",
              "  </style>\n",
              "\n",
              "      <script>\n",
              "        const buttonEl =\n",
              "          document.querySelector('#df-d65d0123-06d6-43a1-82d1-6c0085e1e3b8 button.colab-df-convert');\n",
              "        buttonEl.style.display =\n",
              "          google.colab.kernel.accessAllowed ? 'block' : 'none';\n",
              "\n",
              "        async function convertToInteractive(key) {\n",
              "          const element = document.querySelector('#df-d65d0123-06d6-43a1-82d1-6c0085e1e3b8');\n",
              "          const dataTable =\n",
              "            await google.colab.kernel.invokeFunction('convertToInteractive',\n",
              "                                                     [key], {});\n",
              "          if (!dataTable) return;\n",
              "\n",
              "          const docLinkHtml = 'Like what you see? Visit the ' +\n",
              "            '<a target=\"_blank\" href=https://colab.research.google.com/notebooks/data_table.ipynb>data table notebook</a>'\n",
              "            + ' to learn more about interactive tables.';\n",
              "          element.innerHTML = '';\n",
              "          dataTable['output_type'] = 'display_data';\n",
              "          await google.colab.output.renderOutput(dataTable, element);\n",
              "          const docLink = document.createElement('div');\n",
              "          docLink.innerHTML = docLinkHtml;\n",
              "          element.appendChild(docLink);\n",
              "        }\n",
              "      </script>\n",
              "    </div>\n",
              "  </div>\n",
              "  "
            ]
          },
          "metadata": {},
          "execution_count": 36
        }
      ],
      "source": [
        "def dominant_topic(ldamodel, corpus, texts):\n",
        "     #Function to find the dominant topic in each review\n",
        "     sent_topics_df = pd.DataFrame() \n",
        "     # Get main topic in each review\n",
        "     for i, row in enumerate(ldamodel[corpus]):\n",
        "         row = sorted(row, key=lambda x: (x[1]), reverse=True)\n",
        "         # Get the Dominant topic, Perc Contribution and Keywords for each review\n",
        "         for j, (topic_num, prop_topic) in enumerate(row):\n",
        "             if j == 0:  # => dominant topic\n",
        "                 wp = ldamodel.show_topic(topic_num,topn=4)\n",
        "                 topic_keywords = \", \".join([word for word, prop in wp])\n",
        "                 sent_topics_df = sent_topics_df.append(pd.Series([int(topic_num), round(prop_topic,4), topic_keywords]), ignore_index=True)\n",
        "             else:\n",
        "                 break\n",
        "     sent_topics_df.columns = ['Dominant_Topic', 'Perc_Contribution', 'Topic_Keywords']\n",
        "     contents = pd.Series(texts)\n",
        "     sent_topics_df = pd.concat([sent_topics_df, contents], axis=1)\n",
        "     return(sent_topics_df)\n",
        "\n",
        "df_dominant_topic = dominant_topic(ldamodel=lda1, corpus=corpus, texts=df_train_s['review']) \n",
        "df_dominant_topic.head()"
      ]
    },
    {
      "cell_type": "code",
      "execution_count": null,
      "metadata": {
        "ExecuteTime": {
          "end_time": "2020-02-28T09:01:18.369404Z",
          "start_time": "2020-02-28T09:01:16.788524Z"
        },
        "id": "jg4oB8whScrP"
      },
      "outputs": [],
      "source": [
        "#export topic keywords to csv file for later use\n",
        "export_csv = df_dominant_topic.to_csv(r'df_dominant_topic.csv', index = None, header=True)"
      ]
    },
    {
      "cell_type": "code",
      "execution_count": null,
      "metadata": {
        "ExecuteTime": {
          "end_time": "2020-02-28T05:34:18.751851Z",
          "start_time": "2020-02-28T05:34:14.781950Z"
        },
        "id": "_Hn3hCZwScrQ"
      },
      "outputs": [],
      "source": [
        "\n",
        "cols = [color for name, color in mcolors.TABLEAU_COLORS.items()]  # more colors: 'mcolors.XKCD_COLORS'\n",
        "\n",
        "cloud = WordCloud(stopwords=stop,\n",
        "                  background_color='white',\n",
        "                  width=2500,\n",
        "                  height=1800,\n",
        "                  max_words=10,\n",
        "                  colormap='tab10',\n",
        "                  color_func=lambda *args, **kwargs: cols[i],\n",
        "                  prefer_horizontal=1.0)\n",
        "\n",
        "topics1 = lda1.show_topics(formatted=False)\n",
        "\n",
        "fig, axes = plt.subplots(2, 2, figsize=(6,6), sharex=True, sharey=True)\n",
        "\n",
        "for i, ax in enumerate(axes.flatten()):\n",
        "    fig.add_subplot(ax)\n",
        "    topic_words1 = dict(topics1[i][1])\n",
        "    cloud.generate_from_frequencies(topic_words1, max_font_size=300)\n",
        "    plt.gca().imshow(cloud)\n",
        "    plt.gca().set_title('Topic ' + str(i), fontdict=dict(size=16))\n",
        "    plt.gca().axis('off')\n",
        "\n",
        "plt.subplots_adjust(wspace=0, hspace=0)\n",
        "plt.axis('off')\n",
        "plt.margins(x=0, y=0)\n",
        "plt.tight_layout()\n",
        "plt.show()\n",
        "\n",
        "plt.savefig('wc_bigram_lda-4.svg')"
      ]
    },
    {
      "cell_type": "code",
      "execution_count": null,
      "metadata": {
        "ExecuteTime": {
          "end_time": "2020-02-28T05:40:20.349269Z",
          "start_time": "2020-02-28T05:34:26.758846Z"
        },
        "id": "7raKzImhScrQ"
      },
      "outputs": [],
      "source": [
        "lda2 = models.LdaModel(corpus=corpus, num_topics=6, id2word=id2word, passes=10)"
      ]
    },
    {
      "cell_type": "code",
      "execution_count": null,
      "metadata": {
        "ExecuteTime": {
          "end_time": "2020-02-28T05:40:38.051941Z",
          "start_time": "2020-02-28T05:40:38.038934Z"
        },
        "colab": {
          "base_uri": "https://localhost:8080/"
        },
        "id": "kVO-ohViScrQ",
        "outputId": "11dbd156-bc45-465e-ff9b-b10c7bd5873f"
      },
      "outputs": [
        {
          "output_type": "execute_result",
          "data": {
            "text/plain": [
              "[(0,\n",
              "  '0.004*\"feel like\" + 0.004*\"started taking\" + 0.004*\"two week\" + 0.003*\"would not\" + 0.003*\"really bad\" + 0.003*\"go away\" + 0.003*\"felt like\" + 0.003*\"since started\" + 0.003*\"not good\" + 0.003*\"started using\"'),\n",
              " (1,\n",
              "  '0.007*\"back pain\" + 0.005*\"work well\" + 0.004*\"could not\" + 0.003*\"felt like\" + 0.003*\"year ago\" + 0.003*\"first time\" + 0.003*\"worked great\" + 0.003*\"not take\" + 0.003*\"lower back\" + 0.002*\"doctor prescribed\"'),\n",
              " (2,\n",
              "  '0.086*\"side effect\" + 0.018*\"no side\" + 0.007*\"dry mouth\" + 0.006*\"go away\" + 0.004*\"lost lb\" + 0.004*\"lost pound\" + 0.004*\"weight loss\" + 0.003*\"started taking\" + 0.003*\"hot flash\" + 0.003*\"not sure\"'),\n",
              " (3,\n",
              "  '0.011*\"blood pressure\" + 0.005*\"feel like\" + 0.004*\"first time\" + 0.003*\"make feel\" + 0.003*\"year old\" + 0.003*\"not sure\" + 0.003*\"yeast infection\" + 0.003*\"not worth\" + 0.003*\"high blood\" + 0.003*\"could not\"'),\n",
              " (4,\n",
              "  '0.016*\"panic attack\" + 0.009*\"side effect\" + 0.009*\"year old\" + 0.007*\"year ago\" + 0.007*\"started taking\" + 0.007*\"feel like\" + 0.005*\"much better\" + 0.005*\"anxiety depression\" + 0.004*\"changed life\" + 0.004*\"saved life\"'),\n",
              " (5,\n",
              "  '0.029*\"birth control\" + 0.013*\"mood swing\" + 0.013*\"weight gain\" + 0.012*\"sex drive\" + 0.006*\"side effect\" + 0.005*\"taking pill\" + 0.004*\"gain weight\" + 0.004*\"gained lb\" + 0.004*\"control pill\" + 0.003*\"take pill\"')]"
            ]
          },
          "metadata": {},
          "execution_count": 41
        }
      ],
      "source": [
        "lda2.print_topics()"
      ]
    },
    {
      "cell_type": "code",
      "execution_count": null,
      "metadata": {
        "ExecuteTime": {
          "end_time": "2020-02-28T05:40:38.661228Z",
          "start_time": "2020-02-28T05:40:38.656061Z"
        },
        "colab": {
          "base_uri": "https://localhost:8080/"
        },
        "id": "YSiJSarzScrR",
        "outputId": "6641c820-f716-408b-ea82-5ba7e822b0cc"
      },
      "outputs": [
        {
          "output_type": "execute_result",
          "data": {
            "text/plain": [
              "<gensim.interfaces.TransformedCorpus at 0x7f6f899f1c50>"
            ]
          },
          "metadata": {},
          "execution_count": 42
        }
      ],
      "source": [
        "lda_corpus2 = lda2[corpus]\n",
        "lda_corpus2"
      ]
    },
    {
      "cell_type": "code",
      "execution_count": null,
      "metadata": {
        "ExecuteTime": {
          "end_time": "2020-02-28T05:41:07.876633Z",
          "start_time": "2020-02-28T05:40:39.317362Z"
        },
        "id": "g_SiiZ2_ScrR"
      },
      "outputs": [],
      "source": [
        "lda_docs2 = [doc for doc in lda_corpus2]"
      ]
    },
    {
      "cell_type": "code",
      "execution_count": null,
      "metadata": {
        "ExecuteTime": {
          "end_time": "2020-02-28T05:41:07.884108Z",
          "start_time": "2020-02-28T05:41:07.878983Z"
        },
        "colab": {
          "base_uri": "https://localhost:8080/"
        },
        "id": "nrXzjUoCScrR",
        "outputId": "1b35f403-44d7-4df3-9af2-05c11e67a6c1"
      },
      "outputs": [
        {
          "output_type": "execute_result",
          "data": {
            "text/plain": [
              "[[(1, 0.29751045),\n",
              "  (2, 0.092366844),\n",
              "  (3, 0.2789058),\n",
              "  (4, 0.164803),\n",
              "  (5, 0.15808055)],\n",
              " [(0, 0.0119162155),\n",
              "  (1, 0.80641276),\n",
              "  (2, 0.14575396),\n",
              "  (3, 0.01192103),\n",
              "  (4, 0.011945959),\n",
              "  (5, 0.012050025)],\n",
              " [(0, 0.16666667),\n",
              "  (1, 0.16666667),\n",
              "  (2, 0.16666667),\n",
              "  (3, 0.16666667),\n",
              "  (4, 0.16666667),\n",
              "  (5, 0.16666667)],\n",
              " [(1, 0.15742457), (2, 0.7608982), (4, 0.060728546)],\n",
              " [(2, 0.15078112), (3, 0.35296893), (5, 0.4822947)]]"
            ]
          },
          "metadata": {},
          "execution_count": 44
        }
      ],
      "source": [
        "lda_docs2[0:5]"
      ]
    },
    {
      "cell_type": "code",
      "execution_count": null,
      "metadata": {
        "ExecuteTime": {
          "end_time": "2020-02-28T05:41:14.227333Z",
          "start_time": "2020-02-28T05:41:07.886442Z"
        },
        "colab": {
          "base_uri": "https://localhost:8080/",
          "height": 756
        },
        "id": "IxvRLj6IScrR",
        "outputId": "443b6e34-6aed-4621-fdcf-f0926924f282"
      },
      "outputs": [
        {
          "output_type": "display_data",
          "data": {
            "text/plain": [
              "<Figure size 864x720 with 6 Axes>"
            ],
            "image/svg+xml": "<?xml version=\"1.0\" encoding=\"utf-8\" standalone=\"no\"?>\n<!DOCTYPE svg PUBLIC \"-//W3C//DTD SVG 1.1//EN\"\n  \"http://www.w3.org/Graphics/SVG/1.1/DTD/svg11.dtd\">\n<!-- Created with matplotlib (https://matplotlib.org/) -->\n<svg height=\"537.6015pt\" version=\"1.1\" viewBox=\"0 0 856.8 537.6015\" width=\"856.8pt\" xmlns=\"http://www.w3.org/2000/svg\" xmlns:xlink=\"http://www.w3.org/1999/xlink\">\n <defs>\n  <style type=\"text/css\">\n*{stroke-linecap:butt;stroke-linejoin:round;}\n  </style>\n </defs>\n <g id=\"figure_1\">\n  <g id=\"patch_1\">\n   <path d=\"M 0 537.6015 \nL 856.8 537.6015 \nL 856.8 0 \nL 0 0 \nz\n\" style=\"fill:none;\"/>\n  </g>\n  <g id=\"axes_1\">\n   <g clip-path=\"url(#pee174e71c9)\">\n    <image height=\"197\" id=\"imagef6b989ab39\" transform=\"scale(1 -1)translate(0 -197)\" width=\"274\" x=\"7.2\" xlink:href=\"data:image/png;base64,\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\" y=\"-25.3495\"/>\n   </g>\n   <g id=\"text_1\">\n    <!-- Topic 0 -->\n    <defs>\n     <path d=\"M -0.296875 72.90625 \nL 61.375 72.90625 \nL 61.375 64.59375 \nL 35.5 64.59375 \nL 35.5 0 \nL 25.59375 0 \nL 25.59375 64.59375 \nL -0.296875 64.59375 \nz\n\" id=\"DejaVuSans-84\"/>\n     <path d=\"M 30.609375 48.390625 \nQ 23.390625 48.390625 19.1875 42.75 \nQ 14.984375 37.109375 14.984375 27.296875 \nQ 14.984375 17.484375 19.15625 11.84375 \nQ 23.34375 6.203125 30.609375 6.203125 \nQ 37.796875 6.203125 41.984375 11.859375 \nQ 46.1875 17.53125 46.1875 27.296875 \nQ 46.1875 37.015625 41.984375 42.703125 \nQ 37.796875 48.390625 30.609375 48.390625 \nz\nM 30.609375 56 \nQ 42.328125 56 49.015625 48.375 \nQ 55.71875 40.765625 55.71875 27.296875 \nQ 55.71875 13.875 49.015625 6.21875 \nQ 42.328125 -1.421875 30.609375 -1.421875 \nQ 18.84375 -1.421875 12.171875 6.21875 \nQ 5.515625 13.875 5.515625 27.296875 \nQ 5.515625 40.765625 12.171875 48.375 \nQ 18.84375 56 30.609375 56 \nz\n\" id=\"DejaVuSans-111\"/>\n     <path d=\"M 18.109375 8.203125 \nL 18.109375 -20.796875 \nL 9.078125 -20.796875 \nL 9.078125 54.6875 \nL 18.109375 54.6875 \nL 18.109375 46.390625 \nQ 20.953125 51.265625 25.265625 53.625 \nQ 29.59375 56 35.59375 56 \nQ 45.5625 56 51.78125 48.09375 \nQ 58.015625 40.1875 58.015625 27.296875 \nQ 58.015625 14.40625 51.78125 6.484375 \nQ 45.5625 -1.421875 35.59375 -1.421875 \nQ 29.59375 -1.421875 25.265625 0.953125 \nQ 20.953125 3.328125 18.109375 8.203125 \nz\nM 48.6875 27.296875 \nQ 48.6875 37.203125 44.609375 42.84375 \nQ 40.53125 48.484375 33.40625 48.484375 \nQ 26.265625 48.484375 22.1875 42.84375 \nQ 18.109375 37.203125 18.109375 27.296875 \nQ 18.109375 17.390625 22.1875 11.75 \nQ 26.265625 6.109375 33.40625 6.109375 \nQ 40.53125 6.109375 44.609375 11.75 \nQ 48.6875 17.390625 48.6875 27.296875 \nz\n\" id=\"DejaVuSans-112\"/>\n     <path d=\"M 9.421875 54.6875 \nL 18.40625 54.6875 \nL 18.40625 0 \nL 9.421875 0 \nz\nM 9.421875 75.984375 \nL 18.40625 75.984375 \nL 18.40625 64.59375 \nL 9.421875 64.59375 \nz\n\" id=\"DejaVuSans-105\"/>\n     <path d=\"M 48.78125 52.59375 \nL 48.78125 44.1875 \nQ 44.96875 46.296875 41.140625 47.34375 \nQ 37.3125 48.390625 33.40625 48.390625 \nQ 24.65625 48.390625 19.8125 42.84375 \nQ 14.984375 37.3125 14.984375 27.296875 \nQ 14.984375 17.28125 19.8125 11.734375 \nQ 24.65625 6.203125 33.40625 6.203125 \nQ 37.3125 6.203125 41.140625 7.25 \nQ 44.96875 8.296875 48.78125 10.40625 \nL 48.78125 2.09375 \nQ 45.015625 0.34375 40.984375 -0.53125 \nQ 36.96875 -1.421875 32.421875 -1.421875 \nQ 20.0625 -1.421875 12.78125 6.34375 \nQ 5.515625 14.109375 5.515625 27.296875 \nQ 5.515625 40.671875 12.859375 48.328125 \nQ 20.21875 56 33.015625 56 \nQ 37.15625 56 41.109375 55.140625 \nQ 45.0625 54.296875 48.78125 52.59375 \nz\n\" id=\"DejaVuSans-99\"/>\n     <path id=\"DejaVuSans-32\"/>\n     <path d=\"M 31.78125 66.40625 \nQ 24.171875 66.40625 20.328125 58.90625 \nQ 16.5 51.421875 16.5 36.375 \nQ 16.5 21.390625 20.328125 13.890625 \nQ 24.171875 6.390625 31.78125 6.390625 \nQ 39.453125 6.390625 43.28125 13.890625 \nQ 47.125 21.390625 47.125 36.375 \nQ 47.125 51.421875 43.28125 58.90625 \nQ 39.453125 66.40625 31.78125 66.40625 \nz\nM 31.78125 74.21875 \nQ 44.046875 74.21875 50.515625 64.515625 \nQ 56.984375 54.828125 56.984375 36.375 \nQ 56.984375 17.96875 50.515625 8.265625 \nQ 44.046875 -1.421875 31.78125 -1.421875 \nQ 19.53125 -1.421875 13.0625 8.265625 \nQ 6.59375 17.96875 6.59375 36.375 \nQ 6.59375 54.828125 13.0625 64.515625 \nQ 19.53125 74.21875 31.78125 74.21875 \nz\n\" id=\"DejaVuSans-48\"/>\n    </defs>\n    <g transform=\"translate(116.24625 19.3575)scale(0.16 -0.16)\">\n     <use xlink:href=\"#DejaVuSans-84\"/>\n     <use x=\"44.083984\" xlink:href=\"#DejaVuSans-111\"/>\n     <use x=\"105.265625\" xlink:href=\"#DejaVuSans-112\"/>\n     <use x=\"168.742188\" xlink:href=\"#DejaVuSans-105\"/>\n     <use x=\"196.525391\" xlink:href=\"#DejaVuSans-99\"/>\n     <use x=\"251.505859\" xlink:href=\"#DejaVuSans-32\"/>\n     <use x=\"283.292969\" xlink:href=\"#DejaVuSans-48\"/>\n    </g>\n   </g>\n  </g>\n  <g id=\"axes_2\">\n   <g clip-path=\"url(#p8a67ac3a1c)\">\n    <image height=\"197\" id=\"imaged3e158b9ac\" transform=\"scale(1 -1)translate(0 -197)\" width=\"274\" x=\"291.6\" xlink:href=\"data:image/png;base64,\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\" y=\"-25.3495\"/>\n   </g>\n   <g id=\"text_2\">\n    <!-- Topic 1 -->\n    <defs>\n     <path d=\"M 12.40625 8.296875 \nL 28.515625 8.296875 \nL 28.515625 63.921875 \nL 10.984375 60.40625 \nL 10.984375 69.390625 \nL 28.421875 72.90625 \nL 38.28125 72.90625 \nL 38.28125 8.296875 \nL 54.390625 8.296875 \nL 54.390625 0 \nL 12.40625 0 \nz\n\" id=\"DejaVuSans-49\"/>\n    </defs>\n    <g transform=\"translate(400.64625 19.3575)scale(0.16 -0.16)\">\n     <use xlink:href=\"#DejaVuSans-84\"/>\n     <use x=\"44.083984\" xlink:href=\"#DejaVuSans-111\"/>\n     <use x=\"105.265625\" xlink:href=\"#DejaVuSans-112\"/>\n     <use x=\"168.742188\" xlink:href=\"#DejaVuSans-105\"/>\n     <use x=\"196.525391\" xlink:href=\"#DejaVuSans-99\"/>\n     <use x=\"251.505859\" xlink:href=\"#DejaVuSans-32\"/>\n     <use x=\"283.292969\" xlink:href=\"#DejaVuSans-49\"/>\n    </g>\n   </g>\n  </g>\n  <g id=\"axes_3\">\n   <g clip-path=\"url(#p3278be33d2)\">\n    <image height=\"197\" id=\"image3603af5713\" transform=\"scale(1 -1)translate(0 -197)\" width=\"274\" x=\"576\" xlink:href=\"data:image/png;base64,\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\" y=\"-25.3495\"/>\n   </g>\n   <g id=\"text_3\">\n    <!-- Topic 2 -->\n    <defs>\n     <path d=\"M 19.1875 8.296875 \nL 53.609375 8.296875 \nL 53.609375 0 \nL 7.328125 0 \nL 7.328125 8.296875 \nQ 12.9375 14.109375 22.625 23.890625 \nQ 32.328125 33.6875 34.8125 36.53125 \nQ 39.546875 41.84375 41.421875 45.53125 \nQ 43.3125 49.21875 43.3125 52.78125 \nQ 43.3125 58.59375 39.234375 62.25 \nQ 35.15625 65.921875 28.609375 65.921875 \nQ 23.96875 65.921875 18.8125 64.3125 \nQ 13.671875 62.703125 7.8125 59.421875 \nL 7.8125 69.390625 \nQ 13.765625 71.78125 18.9375 73 \nQ 24.125 74.21875 28.421875 74.21875 \nQ 39.75 74.21875 46.484375 68.546875 \nQ 53.21875 62.890625 53.21875 53.421875 \nQ 53.21875 48.921875 51.53125 44.890625 \nQ 49.859375 40.875 45.40625 35.40625 \nQ 44.1875 33.984375 37.640625 27.21875 \nQ 31.109375 20.453125 19.1875 8.296875 \nz\n\" id=\"DejaVuSans-50\"/>\n    </defs>\n    <g transform=\"translate(685.04625 19.3575)scale(0.16 -0.16)\">\n     <use xlink:href=\"#DejaVuSans-84\"/>\n     <use x=\"44.083984\" xlink:href=\"#DejaVuSans-111\"/>\n     <use x=\"105.265625\" xlink:href=\"#DejaVuSans-112\"/>\n     <use x=\"168.742188\" xlink:href=\"#DejaVuSans-105\"/>\n     <use x=\"196.525391\" xlink:href=\"#DejaVuSans-99\"/>\n     <use x=\"251.505859\" xlink:href=\"#DejaVuSans-32\"/>\n     <use x=\"283.292969\" xlink:href=\"#DejaVuSans-50\"/>\n    </g>\n   </g>\n  </g>\n  <g id=\"axes_4\">\n   <g clip-path=\"url(#p65f05b596d)\">\n    <image height=\"197\" id=\"image1688f8d285\" transform=\"scale(1 -1)translate(0 -197)\" width=\"274\" x=\"7.2\" xlink:href=\"data:image/png;base64,\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\" y=\"-333.4015\"/>\n   </g>\n   <g id=\"text_4\">\n    <!-- Topic 3 -->\n    <defs>\n     <path d=\"M 40.578125 39.3125 \nQ 47.65625 37.796875 51.625 33 \nQ 55.609375 28.21875 55.609375 21.1875 \nQ 55.609375 10.40625 48.1875 4.484375 \nQ 40.765625 -1.421875 27.09375 -1.421875 \nQ 22.515625 -1.421875 17.65625 -0.515625 \nQ 12.796875 0.390625 7.625 2.203125 \nL 7.625 11.71875 \nQ 11.71875 9.328125 16.59375 8.109375 \nQ 21.484375 6.890625 26.8125 6.890625 \nQ 36.078125 6.890625 40.9375 10.546875 \nQ 45.796875 14.203125 45.796875 21.1875 \nQ 45.796875 27.640625 41.28125 31.265625 \nQ 36.765625 34.90625 28.71875 34.90625 \nL 20.21875 34.90625 \nL 20.21875 43.015625 \nL 29.109375 43.015625 \nQ 36.375 43.015625 40.234375 45.921875 \nQ 44.09375 48.828125 44.09375 54.296875 \nQ 44.09375 59.90625 40.109375 62.90625 \nQ 36.140625 65.921875 28.71875 65.921875 \nQ 24.65625 65.921875 20.015625 65.03125 \nQ 15.375 64.15625 9.8125 62.3125 \nL 9.8125 71.09375 \nQ 15.4375 72.65625 20.34375 73.4375 \nQ 25.25 74.21875 29.59375 74.21875 \nQ 40.828125 74.21875 47.359375 69.109375 \nQ 53.90625 64.015625 53.90625 55.328125 \nQ 53.90625 49.265625 50.4375 45.09375 \nQ 46.96875 40.921875 40.578125 39.3125 \nz\n\" id=\"DejaVuSans-51\"/>\n    </defs>\n    <g transform=\"translate(116.24625 327.4095)scale(0.16 -0.16)\">\n     <use xlink:href=\"#DejaVuSans-84\"/>\n     <use x=\"44.083984\" xlink:href=\"#DejaVuSans-111\"/>\n     <use x=\"105.265625\" xlink:href=\"#DejaVuSans-112\"/>\n     <use x=\"168.742188\" xlink:href=\"#DejaVuSans-105\"/>\n     <use x=\"196.525391\" xlink:href=\"#DejaVuSans-99\"/>\n     <use x=\"251.505859\" xlink:href=\"#DejaVuSans-32\"/>\n     <use x=\"283.292969\" xlink:href=\"#DejaVuSans-51\"/>\n    </g>\n   </g>\n  </g>\n  <g id=\"axes_5\">\n   <g clip-path=\"url(#pdf7ba40a6c)\">\n    <image height=\"197\" id=\"imagea99dc93964\" transform=\"scale(1 -1)translate(0 -197)\" width=\"274\" x=\"291.6\" xlink:href=\"data:image/png;base64,\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\" y=\"-333.4015\"/>\n   </g>\n   <g id=\"text_5\">\n    <!-- Topic 4 -->\n    <defs>\n     <path d=\"M 37.796875 64.3125 \nL 12.890625 25.390625 \nL 37.796875 25.390625 \nz\nM 35.203125 72.90625 \nL 47.609375 72.90625 \nL 47.609375 25.390625 \nL 58.015625 25.390625 \nL 58.015625 17.1875 \nL 47.609375 17.1875 \nL 47.609375 0 \nL 37.796875 0 \nL 37.796875 17.1875 \nL 4.890625 17.1875 \nL 4.890625 26.703125 \nz\n\" id=\"DejaVuSans-52\"/>\n    </defs>\n    <g transform=\"translate(400.64625 327.4095)scale(0.16 -0.16)\">\n     <use xlink:href=\"#DejaVuSans-84\"/>\n     <use x=\"44.083984\" xlink:href=\"#DejaVuSans-111\"/>\n     <use x=\"105.265625\" xlink:href=\"#DejaVuSans-112\"/>\n     <use x=\"168.742188\" xlink:href=\"#DejaVuSans-105\"/>\n     <use x=\"196.525391\" xlink:href=\"#DejaVuSans-99\"/>\n     <use x=\"251.505859\" xlink:href=\"#DejaVuSans-32\"/>\n     <use x=\"283.292969\" xlink:href=\"#DejaVuSans-52\"/>\n    </g>\n   </g>\n  </g>\n  <g id=\"axes_6\">\n   <g clip-path=\"url(#pd6372333ef)\">\n    <image height=\"197\" id=\"image4715f5ae17\" transform=\"scale(1 -1)translate(0 -197)\" width=\"274\" x=\"576\" xlink:href=\"data:image/png;base64,\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\" y=\"-333.4015\"/>\n   </g>\n   <g id=\"text_6\">\n    <!-- Topic 5 -->\n    <defs>\n     <path d=\"M 10.796875 72.90625 \nL 49.515625 72.90625 \nL 49.515625 64.59375 \nL 19.828125 64.59375 \nL 19.828125 46.734375 \nQ 21.96875 47.46875 24.109375 47.828125 \nQ 26.265625 48.1875 28.421875 48.1875 \nQ 40.625 48.1875 47.75 41.5 \nQ 54.890625 34.8125 54.890625 23.390625 \nQ 54.890625 11.625 47.5625 5.09375 \nQ 40.234375 -1.421875 26.90625 -1.421875 \nQ 22.3125 -1.421875 17.546875 -0.640625 \nQ 12.796875 0.140625 7.71875 1.703125 \nL 7.71875 11.625 \nQ 12.109375 9.234375 16.796875 8.0625 \nQ 21.484375 6.890625 26.703125 6.890625 \nQ 35.15625 6.890625 40.078125 11.328125 \nQ 45.015625 15.765625 45.015625 23.390625 \nQ 45.015625 31 40.078125 35.4375 \nQ 35.15625 39.890625 26.703125 39.890625 \nQ 22.75 39.890625 18.8125 39.015625 \nQ 14.890625 38.140625 10.796875 36.28125 \nz\n\" id=\"DejaVuSans-53\"/>\n    </defs>\n    <g transform=\"translate(685.04625 327.4095)scale(0.16 -0.16)\">\n     <use xlink:href=\"#DejaVuSans-84\"/>\n     <use x=\"44.083984\" xlink:href=\"#DejaVuSans-111\"/>\n     <use x=\"105.265625\" xlink:href=\"#DejaVuSans-112\"/>\n     <use x=\"168.742188\" xlink:href=\"#DejaVuSans-105\"/>\n     <use x=\"196.525391\" xlink:href=\"#DejaVuSans-99\"/>\n     <use x=\"251.505859\" xlink:href=\"#DejaVuSans-32\"/>\n     <use x=\"283.292969\" xlink:href=\"#DejaVuSans-53\"/>\n    </g>\n   </g>\n  </g>\n </g>\n <defs>\n  <clipPath id=\"pee174e71c9\">\n   <rect height=\"196.992\" width=\"273.6\" x=\"7.2\" y=\"25.3575\"/>\n  </clipPath>\n  <clipPath id=\"p8a67ac3a1c\">\n   <rect height=\"196.992\" width=\"273.6\" x=\"291.6\" y=\"25.3575\"/>\n  </clipPath>\n  <clipPath id=\"p3278be33d2\">\n   <rect height=\"196.992\" width=\"273.6\" x=\"576\" y=\"25.3575\"/>\n  </clipPath>\n  <clipPath id=\"p65f05b596d\">\n   <rect height=\"196.992\" width=\"273.6\" x=\"7.2\" y=\"333.4095\"/>\n  </clipPath>\n  <clipPath id=\"pdf7ba40a6c\">\n   <rect height=\"196.992\" width=\"273.6\" x=\"291.6\" y=\"333.4095\"/>\n  </clipPath>\n  <clipPath id=\"pd6372333ef\">\n   <rect height=\"196.992\" width=\"273.6\" x=\"576\" y=\"333.4095\"/>\n  </clipPath>\n </defs>\n</svg>\n"
          },
          "metadata": {
            "needs_background": "light"
          }
        },
        {
          "output_type": "display_data",
          "data": {
            "text/plain": [
              "<Figure size 432x288 with 0 Axes>"
            ]
          },
          "metadata": {}
        }
      ],
      "source": [
        "cols = [color for name, color in mcolors.TABLEAU_COLORS.items()]  # more colors: 'mcolors.XKCD_COLORS'\n",
        "\n",
        "cloud = WordCloud(stopwords=stop,\n",
        "                  background_color='white',\n",
        "                  width=2500,\n",
        "                  height=1800,\n",
        "                  max_words=10,\n",
        "                  colormap='tab10',\n",
        "                  color_func=lambda *args, **kwargs: cols[i],\n",
        "                  prefer_horizontal=1.0)\n",
        "\n",
        "topics2 = lda2.show_topics(formatted=False)\n",
        "\n",
        "fig, axes = plt.subplots(2, 3, figsize=(12,10), sharex=True, sharey=True)\n",
        "\n",
        "for i, ax in enumerate(axes.flatten()):\n",
        "    fig.add_subplot(ax)\n",
        "    topic_words2 = dict(topics2[i][1])\n",
        "    cloud.generate_from_frequencies(topic_words2, max_font_size=300)\n",
        "    plt.gca().imshow(cloud)\n",
        "    plt.gca().set_title('Topic ' + str(i), fontdict=dict(size=16))\n",
        "    plt.gca().axis('off')\n",
        "\n",
        "plt.subplots_adjust(wspace=0, hspace=0)\n",
        "plt.axis('off')\n",
        "plt.margins(x=0, y=0)\n",
        "plt.tight_layout()\n",
        "plt.show()\n",
        "\n",
        "plt.savefig('wc_bigram_lda-6.svg')"
      ]
    },
    {
      "cell_type": "code",
      "source": [
        "new_doc=['She had to use birth control']"
      ],
      "metadata": {
        "id": "JI0iuS_LqxSs"
      },
      "execution_count": null,
      "outputs": []
    },
    {
      "cell_type": "code",
      "source": [
        "import gensim"
      ],
      "metadata": {
        "id": "aT71lxmOtlmp"
      },
      "execution_count": null,
      "outputs": []
    },
    {
      "cell_type": "code",
      "source": [
        "def topic_distribution(doc, num_topics = 4):\n",
        "    \n",
        "    topics_array = np.zeros(num_topics)\n",
        "    X1 = cv.transform(doc)\n",
        "    corpus1 = gensim.matutils.Sparse2Corpus(X1, documents_columns=False)\n",
        "    list_1 = list(lda.get_document_topics(bow=corpus1))[0]\n",
        "    for items in list_1:\n",
        "        topics_array[items[0]] = items[1]\n",
        "    return topics_array\n",
        "#for i, item in enumerate(topic_distribution(new_doc)):\n",
        "#    if item > 0:\n",
        "#        print(i, item)"
      ],
      "metadata": {
        "id": "N5DMLIXLqxoC"
      },
      "execution_count": null,
      "outputs": []
    },
    {
      "cell_type": "code",
      "source": [
        "def calculate_score(doc1, new_doc):\n",
        "    \n",
        "    return np.dot(topic_distribution(doc1), topic_distribution(new_doc))"
      ],
      "metadata": {
        "id": "2uKbSD05rEDl"
      },
      "execution_count": null,
      "outputs": []
    },
    {
      "cell_type": "code",
      "source": [
        "import time"
      ],
      "metadata": {
        "id": "ggSmTPCtty0s"
      },
      "execution_count": null,
      "outputs": []
    },
    {
      "cell_type": "code",
      "source": [
        "def return_max_resembling_paper():\n",
        "    \n",
        "    max_score = 0\n",
        "    start_time = time.time()\n",
        "    for i, doc in enumerate(drug_list):\n",
        "        score = calculate_score(new_doc, [doc])\n",
        "        print(\"\\r\\t>>> Progress\\t:{:.4%}\".format((i + 1)/len(drug_list)), end='')\n",
        "        #print(i, score, topic_distribution([doc]))\n",
        "        if score > max_score:\n",
        "            best_i = i\n",
        "            max_score = score\n",
        "    end_time = time.time()\n",
        "    print(\"\\nRunning time is {}s\".format(end_time-start_time))\n",
        "    return max_score, best_i"
      ],
      "metadata": {
        "id": "-B2kXabCrHwn"
      },
      "execution_count": null,
      "outputs": []
    },
    {
      "cell_type": "code",
      "source": [
        "score, best_i = return_max_resembling_paper()\n",
        "print(\">>> Best score is:\", score)\n",
        "print(\">>> The statement given with the symptoms as remark is \")\n",
        "print(new_doc[0])\n",
        "print(\">>> The most suitable durg that can be prescribed is \")\n",
        "print(drug_list[best_i])\n",
        "#for i, item in enumerate(topic_distribution([condition_list[best_i]])):\n",
        "#    if item > 0:\n",
        "#        print(i, item) "
      ],
      "metadata": {
        "colab": {
          "base_uri": "https://localhost:8080/"
        },
        "id": "xJYqjIj_rJM_",
        "outputId": "3a92c226-6887-44df-b7ad-9e6d07056b1a"
      },
      "execution_count": null,
      "outputs": [
        {
          "output_type": "stream",
          "name": "stdout",
          "text": [
            "\t>>> Progress\t:100.0000%\n",
            "Running time is 70.75422215461731s\n",
            ">>> Best score is: 0.7499232973115646\n",
            ">>> The statement given with the symptoms as remark is \n",
            "She had to use birth control\n",
            ">>> The most suitable durg that can be prescribed is \n",
            "Ortho Tri-Cyclen Lo\n"
          ]
        }
      ]
    },
    {
      "cell_type": "code",
      "source": [
        "from nltk.stem import WordNetLemmatizer\n",
        "import re # Regular expression library\n",
        "import string\n",
        "import nltk\n",
        "nltk.download('wordnet')\n",
        "lemmatizer = WordNetLemmatizer()"
      ],
      "metadata": {
        "colab": {
          "base_uri": "https://localhost:8080/"
        },
        "id": "H_qLDptJ6xfO",
        "outputId": "02d9d7a0-ec36-4043-e238-97539ea1e869"
      },
      "execution_count": null,
      "outputs": [
        {
          "output_type": "stream",
          "name": "stdout",
          "text": [
            "[nltk_data] Downloading package wordnet to /root/nltk_data...\n",
            "[nltk_data]   Package wordnet is already up-to-date!\n"
          ]
        }
      ]
    }
  ],
  "metadata": {
    "kernelspec": {
      "display_name": "Python 3 (ipykernel)",
      "language": "python",
      "name": "python3"
    },
    "language_info": {
      "codemirror_mode": {
        "name": "ipython",
        "version": 3
      },
      "file_extension": ".py",
      "mimetype": "text/x-python",
      "name": "python",
      "nbconvert_exporter": "python",
      "pygments_lexer": "ipython3",
      "version": "3.9.7"
    },
    "latex_envs": {
      "LaTeX_envs_menu_present": true,
      "autoclose": false,
      "autocomplete": true,
      "bibliofile": "biblio.bib",
      "cite_by": "apalike",
      "current_citInitial": 1,
      "eqLabelWithNumbers": true,
      "eqNumInitial": 1,
      "hotkeys": {
        "equation": "Ctrl-E",
        "itemize": "Ctrl-I"
      },
      "labels_anchors": false,
      "latex_user_defs": false,
      "report_style_numbering": false,
      "user_envs_cfg": false
    },
    "colab": {
      "name": "drug_recommendation-LDA.ipynb",
      "provenance": [],
      "collapsed_sections": []
    },
    "accelerator": "GPU"
  },
  "nbformat": 4,
  "nbformat_minor": 0
}